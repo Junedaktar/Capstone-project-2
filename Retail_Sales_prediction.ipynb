{
  "nbformat": 4,
  "nbformat_minor": 0,
  "metadata": {
    "colab": {
      "private_outputs": true,
      "provenance": [],
      "collapsed_sections": [
        "hYpeLJhrD7Ro",
        "gIfDvo9L0UH2"
      ]
    },
    "kernelspec": {
      "name": "python3",
      "display_name": "Python 3"
    },
    "language_info": {
      "name": "python"
    },
    "gpuClass": "standard"
  },
  "cells": [
    {
      "cell_type": "markdown",
      "source": [
        "# **Project Name**    - Rossman Retail Sales Prediction\n",
        "\n"
      ],
      "metadata": {
        "id": "vncDsAP0Gaoa"
      }
    },
    {
      "cell_type": "markdown",
      "source": [
        "##### **Project Type**    - Regression\n",
        "##### **Contribution**    - Team\n",
        "##### **Team Member 1 - Juned Akhtar\n",
        "##### **Team Member 2 - Muskan Garg"
      ],
      "metadata": {
        "id": "beRrZCGUAJYm"
      }
    },
    {
      "cell_type": "markdown",
      "source": [
        "# **Project Summary -**"
      ],
      "metadata": {
        "id": "FJNUwmbgGyua"
      }
    },
    {
      "cell_type": "markdown",
      "source": [
        "We have a time series forecasting problem where we need to predict the \"Sales\" column for the test set. We have historical sales data for 1,115 Rossmann stores, and We need to use this data to train a model that can predict sales for the next six weeks in advance.\n",
        "\n",
        "Given the nature of the problem, there are several ways to solve this. By this we can capture the trends, seasonality, and other time-dependent patterns that affect the sales of Rossmann stores.\n",
        "\n",
        "To get started, We can explore the dataset to understand the features and their relationships with the target variable. We can also perform data cleaning and preprocessing to handle missing data, outliers, and other issues that may affect the performance of our model.\n",
        "\n",
        "Once we clean and preprocess the data, we can train our model using a training set and evaluate its performance using a validation set. We can then use the trained model to make predictions on the test set and submit it to the competition.\n",
        "\n",
        "There are many factors that can influence store sales, including promotions, competition, holidays, seasonality, and location. With so many different factors to consider, it can be challenging to accurately predict sales, especially when each store has its unique circumstances.\n",
        "\n",
        "To make matters more complicated, some stores in the dataset are temporarily closed for refurbishment, which will need to be taken into account when making predictions.\n",
        "\n",
        "To tackle this task, we need to use data analysis and machine learning techniques to build a model that can accurately predict sales for each store. We will need to explore the data to identify trends and patterns that may be useful for making predictions, and then use this information to train and test our model.\n",
        "\n",
        "Ultimately, our goal is to create a model that can accurately predict sales for each store, even when faced with a wide range of different factors that can influence sales. By doing so, we can help Rossmann make better business decisions and improve their overall performance.\n"
      ],
      "metadata": {
        "id": "F6v_1wHtG2nS"
      }
    },
    {
      "cell_type": "markdown",
      "source": [
        "# **GitHub Link -**"
      ],
      "metadata": {
        "id": "w6K7xa23Elo4"
      }
    },
    {
      "cell_type": "markdown",
      "source": [
        "https://github.com/Junedaktar/Capstone-project-2-Sales-data-prediction.git"
      ],
      "metadata": {
        "id": "h1o69JH3Eqqn"
      }
    },
    {
      "cell_type": "markdown",
      "source": [
        "# ***Let's Begin !***"
      ],
      "metadata": {
        "id": "O_i_v8NEhb9l"
      }
    },
    {
      "cell_type": "markdown",
      "source": [
        "## ***1. Know Your Data***"
      ],
      "metadata": {
        "id": "HhfV-JJviCcP"
      }
    },
    {
      "cell_type": "markdown",
      "source": [
        "### Import Libraries"
      ],
      "metadata": {
        "id": "Y3lxredqlCYt"
      }
    },
    {
      "cell_type": "code",
      "source": [
        "# Import Libraries\n",
        "import pandas as pd\n",
        "import numpy as np\n",
        "import matplotlib.pyplot as plt\n",
        "import math\n",
        "import seaborn as sns"
      ],
      "metadata": {
        "id": "M8Vqi-pPk-HR"
      },
      "execution_count": null,
      "outputs": []
    },
    {
      "cell_type": "markdown",
      "source": [
        "### Dataset Loading"
      ],
      "metadata": {
        "id": "3RnN4peoiCZX"
      }
    },
    {
      "cell_type": "code",
      "source": [
        "# Load Dataset\n",
        "store_df=pd.read_csv('/content/store.csv')\n",
        "rossman = pd.read_csv('/content/Rossmann Stores Data.csv')\n",
        "store_df"
      ],
      "metadata": {
        "id": "4CkvbW_SlZ_R"
      },
      "execution_count": null,
      "outputs": []
    },
    {
      "cell_type": "code",
      "source": [
        "rossman"
      ],
      "metadata": {
        "id": "tJdfiHjNtUO1"
      },
      "execution_count": null,
      "outputs": []
    },
    {
      "cell_type": "markdown",
      "source": [
        "### Dataset First View"
      ],
      "metadata": {
        "id": "x71ZqKXriCWQ"
      }
    },
    {
      "cell_type": "code",
      "source": [
        "# Dataset First Look\n",
        "store_df.head()"
      ],
      "metadata": {
        "id": "LWNFOSvLl09H"
      },
      "execution_count": null,
      "outputs": []
    },
    {
      "cell_type": "code",
      "source": [
        "rossman.head()"
      ],
      "metadata": {
        "id": "Qz3Zh9d1uDzN"
      },
      "execution_count": null,
      "outputs": []
    },
    {
      "cell_type": "markdown",
      "source": [
        "### Dataset Rows & Columns count"
      ],
      "metadata": {
        "id": "7hBIi_osiCS2"
      }
    },
    {
      "cell_type": "code",
      "source": [
        "# Dataset Rows & Columns \n",
        "store_df.shape"
      ],
      "metadata": {
        "id": "Kllu7SJgmLij"
      },
      "execution_count": null,
      "outputs": []
    },
    {
      "cell_type": "code",
      "source": [
        "rossman.shape"
      ],
      "metadata": {
        "id": "rA5tT3PduHK1"
      },
      "execution_count": null,
      "outputs": []
    },
    {
      "cell_type": "markdown",
      "source": [
        "### Dataset Information"
      ],
      "metadata": {
        "id": "JlHwYmJAmNHm"
      }
    },
    {
      "cell_type": "code",
      "source": [
        "# Dataset Info\n",
        "store_df.info()"
      ],
      "metadata": {
        "id": "e9hRXRi6meOf"
      },
      "execution_count": null,
      "outputs": []
    },
    {
      "cell_type": "code",
      "source": [
        "rossman.info()"
      ],
      "metadata": {
        "id": "JPWoB3nhuOQV"
      },
      "execution_count": null,
      "outputs": []
    },
    {
      "cell_type": "markdown",
      "source": [
        "#### Duplicate Values"
      ],
      "metadata": {
        "id": "35m5QtbWiB9F"
      }
    },
    {
      "cell_type": "code",
      "source": [
        "# Dataset Duplicate Value Count\n",
        "store_df.duplicated()"
      ],
      "metadata": {
        "id": "1sLdpKYkmox0"
      },
      "execution_count": null,
      "outputs": []
    },
    {
      "cell_type": "code",
      "source": [
        "rossman.duplicated()"
      ],
      "metadata": {
        "id": "5ce4MxX6uee8"
      },
      "execution_count": null,
      "outputs": []
    },
    {
      "cell_type": "markdown",
      "source": [
        "#### Missing Values/Null Values"
      ],
      "metadata": {
        "id": "PoPl-ycgm1ru"
      }
    },
    {
      "cell_type": "code",
      "source": [
        "# Missing Values/Null Values Count\n",
        "store_df.isnull().sum()"
      ],
      "metadata": {
        "id": "GgHWkxvamxVg"
      },
      "execution_count": null,
      "outputs": []
    },
    {
      "cell_type": "code",
      "source": [
        "rossman.isnull().sum()"
      ],
      "metadata": {
        "id": "Xk0Xf9zDullE"
      },
      "execution_count": null,
      "outputs": []
    },
    {
      "cell_type": "code",
      "source": [
        "# Visualizing the missing values\n",
        "store_df.isnull()"
      ],
      "metadata": {
        "id": "3q5wnI3om9sJ"
      },
      "execution_count": null,
      "outputs": []
    },
    {
      "cell_type": "code",
      "source": [
        "rossman.isnull()"
      ],
      "metadata": {
        "id": "90jEeJcdutxF"
      },
      "execution_count": null,
      "outputs": []
    },
    {
      "cell_type": "markdown",
      "source": [
        "### What did you know about your dataset?"
      ],
      "metadata": {
        "id": "H0kj-8xxnORC"
      }
    },
    {
      "cell_type": "markdown",
      "source": [
        "Based on the information provided, It can be considered that the dataset we are working with contains historical sales data for 1,115 Rossmann stores. The data include information about the stores, such as their location, size, and age, as well as details about the sales, such as the date and amount of each sale. The dataset is being used to train and test the machine learning model to predict sales for each store up to six weeks in advance."
      ],
      "metadata": {
        "id": "gfoNAAC-nUe_"
      }
    },
    {
      "cell_type": "markdown",
      "source": [
        "## ***2. Understanding Your Variables***"
      ],
      "metadata": {
        "id": "nA9Y7ga8ng1Z"
      }
    },
    {
      "cell_type": "code",
      "source": [
        "# Dataset Columns\n",
        "store_df.columns"
      ],
      "metadata": {
        "id": "j7xfkqrt5Ag5"
      },
      "execution_count": null,
      "outputs": []
    },
    {
      "cell_type": "code",
      "source": [
        "rossman.columns"
      ],
      "metadata": {
        "id": "wajgTnzxvPGj"
      },
      "execution_count": null,
      "outputs": []
    },
    {
      "cell_type": "code",
      "source": [
        "# Dataset Describe\n",
        "store_df.describe()"
      ],
      "metadata": {
        "id": "DnOaZdaE5Q5t"
      },
      "execution_count": null,
      "outputs": []
    },
    {
      "cell_type": "code",
      "source": [
        "rossman.describe()"
      ],
      "metadata": {
        "id": "kolubaLEvSvr"
      },
      "execution_count": null,
      "outputs": []
    },
    {
      "cell_type": "markdown",
      "source": [
        "### Variables Description "
      ],
      "metadata": {
        "id": "PBTbrJXOngz2"
      }
    },
    {
      "cell_type": "markdown",
      "source": [
        "Most of the fields are self-explanatory. The following are descriptions for those that aren't.\n",
        "\n",
        "* #### Id - an Id that represents a (Store, Date) duple within the test set\n",
        "* #### Store - a unique Id for each store\n",
        "* #### Sales - the turnover for any given day (this is what you are predicting)\n",
        "* #### Customers - the number of customers on a given day\n",
        "* #### Open - an indicator for whether the store was open: 0 = closed, 1 = open\n",
        "* #### StateHoliday - indicates a state holiday. Normally all stores, with few exceptions, are closed on state holidays. Note that all schools are closed on public holidays and weekends. a = public holiday, b = Easter holiday, c = Christmas, 0 = None\n",
        "* #### SchoolHoliday - indicates if the (Store, Date) was affected by the closure of public schools\n",
        "* #### StoreType - differentiates between 4 different store models: a, b, c, d\n",
        "* #### Assortment - describes an assortment level: a = basic, b = extra, c = extended\n",
        "* #### CompetitionDistance - distance in meters to the nearest competitor store\n",
        "* #### CompetitionOpenSince[Month/Year] - gives the approximate year and month of the time the nearest competitor was opened\n",
        "* #### Promo - indicates whether a store is running a promo on that day\n",
        "* #### Promo2 - Promo2 is a continuing and consecutive promotion for some stores: 0 = store is not participating, 1 = store is participating\n",
        "* #### Promo2Since[Year/Week] - describes the year and calendar week when the store started participating in Promo2\n",
        "* #### PromoInterval - describes the consecutive intervals Promo2 is started, naming the months the promotion is started anew. E.g. \"Feb,May,Aug,Nov\" means each round starts in February, May, August, November of any given year for that store"
      ],
      "metadata": {
        "id": "aJV4KIxSnxay"
      }
    },
    {
      "cell_type": "markdown",
      "source": [
        "### Check Unique Values for each variable."
      ],
      "metadata": {
        "id": "u3PMJOP6ngxN"
      }
    },
    {
      "cell_type": "code",
      "source": [
        "# Check Unique Values for each variable\n",
        "rossman['Store'].unique()"
      ],
      "metadata": {
        "id": "zms12Yq5n-jE"
      },
      "execution_count": null,
      "outputs": []
    },
    {
      "cell_type": "code",
      "source": [
        "data=pd.merge(rossman,store_df,on='Store',how='left')"
      ],
      "metadata": {
        "id": "rgalAAelylET"
      },
      "execution_count": null,
      "outputs": []
    },
    {
      "cell_type": "code",
      "source": [
        "data"
      ],
      "metadata": {
        "id": "dxCuOAlfzQ9S"
      },
      "execution_count": null,
      "outputs": []
    },
    {
      "cell_type": "code",
      "source": [
        "data.info()"
      ],
      "metadata": {
        "id": "9lWPVGK2zeLT"
      },
      "execution_count": null,
      "outputs": []
    },
    {
      "cell_type": "markdown",
      "source": [
        "## 3. ***Data Wrangling***"
      ],
      "metadata": {
        "id": "dauF4eBmngu3"
      }
    },
    {
      "cell_type": "markdown",
      "source": [
        "### 1. Competition distance"
      ],
      "metadata": {
        "id": "oALNcChm1Lbi"
      }
    },
    {
      "cell_type": "code",
      "source": [
        "data[pd.isnull(data['CompetitionDistance'])]"
      ],
      "metadata": {
        "id": "P89SByzp0anr"
      },
      "execution_count": null,
      "outputs": []
    },
    {
      "cell_type": "code",
      "source": [
        "data['CompetitionDistance'].fillna(data['CompetitionDistance'].mean(), inplace = True)"
      ],
      "metadata": {
        "id": "QMAENDXn09yj"
      },
      "execution_count": null,
      "outputs": []
    },
    {
      "cell_type": "markdown",
      "source": [
        "### 2. CompetitionOpenSinceMonth"
      ],
      "metadata": {
        "id": "O45d0Kta1xF7"
      }
    },
    {
      "cell_type": "code",
      "source": [
        "# Write your code to make your dataset analysis ready.\n",
        "data['CompetitionOpenSinceMonth']=data['CompetitionOpenSinceMonth'].fillna(0)"
      ],
      "metadata": {
        "id": "wk-9a2fpoLcV"
      },
      "execution_count": null,
      "outputs": []
    },
    {
      "cell_type": "code",
      "source": [
        "data['CompetitionOpenSinceYear']=data['CompetitionOpenSinceYear'].fillna(0)"
      ],
      "metadata": {
        "id": "3Q-TWcaPzy9y"
      },
      "execution_count": null,
      "outputs": []
    },
    {
      "cell_type": "code",
      "source": [
        "data['Promo2SinceWeek']=data['Promo2SinceWeek'].fillna(0)"
      ],
      "metadata": {
        "id": "CR0dpV-B2TQZ"
      },
      "execution_count": null,
      "outputs": []
    },
    {
      "cell_type": "code",
      "source": [
        "data['Promo2SinceYear']=data['Promo2SinceYear'].fillna(0)"
      ],
      "metadata": {
        "id": "mPCq6CZF2e5h"
      },
      "execution_count": null,
      "outputs": []
    },
    {
      "cell_type": "code",
      "source": [
        "data['PromoInterval']=data['PromoInterval'].fillna(0)"
      ],
      "metadata": {
        "id": "tBehqiio2ezR"
      },
      "execution_count": null,
      "outputs": []
    },
    {
      "cell_type": "code",
      "source": [
        "data"
      ],
      "metadata": {
        "id": "rlG3aDst2xY5"
      },
      "execution_count": null,
      "outputs": []
    },
    {
      "cell_type": "markdown",
      "source": [
        "3. State Holiday"
      ],
      "metadata": {
        "id": "rja83lt1NSXs"
      }
    },
    {
      "cell_type": "code",
      "source": [
        "data.loc[data['StateHoliday'] == '0', 'StateHoliday'] = 0\n",
        "data.loc[data['StateHoliday']=='a','StateHoliday']=1\n",
        "data.loc[data['StateHoliday']=='b','StateHoliday']=2\n",
        "data.loc[data['StateHoliday']=='c','StateHoliday']=3\n",
        "data['StateHoliday']=data['StateHoliday'].astype('int')"
      ],
      "metadata": {
        "id": "IdXw6_Ef5Sdh"
      },
      "execution_count": null,
      "outputs": []
    },
    {
      "cell_type": "code",
      "source": [
        "data.loc[data['StoreType'] == 'a', 'StoreType']= 0\n",
        "data.loc[data['StoreType'] == 'b', 'StoreType'] = 1\n",
        "data.loc[data['StoreType'] == 'c', 'StoreType'] = 2\n",
        "data.loc[data['StoreType'] == 'd', 'StoreType'] = 3\n",
        "data['StoreType'] = data['StoreType'].astype('int')\n"
      ],
      "metadata": {
        "id": "BXtbjaH881qI"
      },
      "execution_count": null,
      "outputs": []
    },
    {
      "cell_type": "code",
      "source": [
        "data.loc[data['Assortment'] == 'a', 'Assortment']= 0\n",
        "data.loc[data['Assortment'] == 'b', 'Assortment']= 1\n",
        "data.loc[data['Assortment'] == 'c', 'Assortment']= 2\n",
        "data['Assortment']=data['Assortment'].astype('int')"
      ],
      "metadata": {
        "id": "JoUVWMbK4ObR"
      },
      "execution_count": null,
      "outputs": []
    },
    {
      "cell_type": "code",
      "source": [
        "data['CompetitionOpenSinceMonth'].unique()"
      ],
      "metadata": {
        "id": "pQQ4Fi5y_v8X"
      },
      "execution_count": null,
      "outputs": []
    },
    {
      "cell_type": "code",
      "source": [
        "data['Date'] = pd.to_datetime(data['Date'], format= '%Y-%m-%d')\n",
        "data['CompetitionOpenSinceYear']= data['CompetitionOpenSinceYear'].astype(int)\n",
        "data['Promo2SinceYear']= data['Promo2SinceYear'].astype(int)\n",
        "data['CompetitionDistance']= data['CompetitionDistance'].astype(int)\n",
        "data['Promo2SinceWeek']= data['Promo2SinceWeek'].astype(int)\n",
        "data['CompetitionOpenSinceMonth'] =data['CompetitionOpenSinceMonth'].astype(int)"
      ],
      "metadata": {
        "id": "Ihcyw9ebSGVG"
      },
      "execution_count": null,
      "outputs": []
    },
    {
      "cell_type": "code",
      "source": [
        "data"
      ],
      "metadata": {
        "id": "OFgCgvS6AAp3"
      },
      "execution_count": null,
      "outputs": []
    },
    {
      "cell_type": "markdown",
      "source": [
        "### What all manipulations have you done and insights you found?"
      ],
      "metadata": {
        "id": "MSa1f5Uengrz"
      }
    },
    {
      "cell_type": "markdown",
      "source": [
        "1. In competition distance thereare 2642 null values, so we can replace with Mean, Median or Zero. But in this case, distnce can not be zero, so we will replace with Mean value.\n"
      ],
      "metadata": {
        "id": "LbyXE7I1olp8"
      }
    },
    {
      "cell_type": "markdown",
      "source": [
        "2. In CompetitionOpenSinceMonth, CompetitionOpenSinceYesr, Promo2 since week and promo2 since year, PromoInterval have many nulll data. we can replace with Mean, Median or Zero. But in this case, we will replace with Zero."
      ],
      "metadata": {
        "id": "_Bee5rERLmiE"
      }
    },
    {
      "cell_type": "markdown",
      "source": [
        "3. StateHoliday, StoreType and assortment are categorised with a,b,c. So for model we replace with integer 0,1,2,3."
      ],
      "metadata": {
        "id": "98m89OVLLyUH"
      }
    },
    {
      "cell_type": "markdown",
      "source": [
        "4. Some columns have string and float data type so i changed to the integer."
      ],
      "metadata": {
        "id": "xOGGqBezEj14"
      }
    },
    {
      "cell_type": "markdown",
      "source": [
        "## ***4. Data Vizualization, Storytelling & Experimenting with charts : Understand the relationships between variables***"
      ],
      "metadata": {
        "id": "GF8Ens_Soomf"
      }
    },
    {
      "cell_type": "markdown",
      "source": [
        "#### Chart - 1"
      ],
      "metadata": {
        "id": "0wOQAZs5pc--"
      }
    },
    {
      "cell_type": "code",
      "source": [
        "# Chart - 1 visualization code\n",
        "plt.figure(figsize=(15,6))\n",
        "sns.barplot(x=data['CompetitionOpenSinceMonth'],y=data['Sales'])\n",
        "plt.title('Plot between Sales and Competition Open Since month')"
      ],
      "metadata": {
        "id": "7v_ESjsspbW7"
      },
      "execution_count": null,
      "outputs": []
    },
    {
      "cell_type": "markdown",
      "source": [
        "##### 1. Why did you pick the specific chart?"
      ],
      "metadata": {
        "id": "K5QZ13OEpz2H"
      }
    },
    {
      "cell_type": "markdown",
      "source": [
        "Here we have used the barplot to showcase the relation between the sales and competition open since month. With this it becomes easy to identify that what was the sales in a particular month ."
      ],
      "metadata": {
        "id": "XESiWehPqBRc"
      }
    },
    {
      "cell_type": "markdown",
      "source": [
        "#### Chart - 2"
      ],
      "metadata": {
        "id": "KSlN3yHqYklG"
      }
    },
    {
      "cell_type": "code",
      "source": [
        "# Chart - 2 visualization code\n",
        "plt.figure(figsize=(15,6))\n",
        "sns.barplot(x=data['CompetitionOpenSinceYear'],y=data['Sales'])\n",
        "plt.title('Plot between Sales and Competition Open Since year')"
      ],
      "metadata": {
        "id": "R4YgtaqtYklH"
      },
      "execution_count": null,
      "outputs": []
    },
    {
      "cell_type": "markdown",
      "source": [
        "##### 1. Why did you pick the specific chart?"
      ],
      "metadata": {
        "id": "t6dVpIINYklI"
      }
    },
    {
      "cell_type": "markdown",
      "source": [
        "In this graph, the relation between sales and competition open since year is shown. This shows that the highest sales happen was in the year 1900 and then again in year 2013."
      ],
      "metadata": {
        "id": "5aaW0BYyYklI"
      }
    },
    {
      "cell_type": "markdown",
      "source": [
        "#### Chart - 3"
      ],
      "metadata": {
        "id": "EM7whBJCYoAo"
      }
    },
    {
      "cell_type": "code",
      "source": [
        "# Chart - 3 visualization code\n",
        "plt.figure(figsize=(15,6))\n",
        "sns.lineplot(x=data['Promo2SinceWeek'],y=data['Sales'])\n",
        "plt.title('Plot between Sales and promo2 since week')"
      ],
      "metadata": {
        "id": "t6GMdE67YoAp"
      },
      "execution_count": null,
      "outputs": []
    },
    {
      "cell_type": "markdown",
      "source": [
        "##### 1. Why did you pick the specific chart?"
      ],
      "metadata": {
        "id": "fge-S5ZAYoAp"
      }
    },
    {
      "cell_type": "markdown",
      "source": [
        "This lineplot chart shows the relation between sales and promo2 since week. "
      ],
      "metadata": {
        "id": "5dBItgRVYoAp"
      }
    },
    {
      "cell_type": "markdown",
      "source": [
        "##### 2. What is/are the insight(s) found from the chart?"
      ],
      "metadata": {
        "id": "85gYPyotYoAp"
      }
    },
    {
      "cell_type": "markdown",
      "source": [
        "This clearly shows that the highest sales happen between the 40th and the 50th week. "
      ],
      "metadata": {
        "id": "4jstXR6OYoAp"
      }
    },
    {
      "cell_type": "markdown",
      "source": [
        "#### Chart - 4"
      ],
      "metadata": {
        "id": "4Of9eVA-YrdM"
      }
    },
    {
      "cell_type": "code",
      "source": [
        "# Chart - 4 visualization code\n",
        "plt.figure(figsize=(15,6))\n",
        "sns.pointplot(x=data['Promo2SinceYear'],y=data['Sales'])\n",
        "plt.title('Plot between Sales and promo2 since year')"
      ],
      "metadata": {
        "id": "irlUoxc8YrdO"
      },
      "execution_count": null,
      "outputs": []
    },
    {
      "cell_type": "markdown",
      "source": [
        "#### Chart - 5"
      ],
      "metadata": {
        "id": "bamQiAODYuh1"
      }
    },
    {
      "cell_type": "code",
      "source": [
        "# Chart - 5 visualization code\n",
        "plt.figure(figsize=(15,6))\n",
        "sns.pointplot(x= 'DayOfWeek', y= 'Sales', data=data)\n",
        "plt.title('Plot between Sales and day of week')"
      ],
      "metadata": {
        "id": "TIJwrbroYuh3"
      },
      "execution_count": null,
      "outputs": []
    },
    {
      "cell_type": "markdown",
      "source": [
        "##### 1. Why did you pick the specific chart?"
      ],
      "metadata": {
        "id": "QHF8YVU7Yuh3"
      }
    },
    {
      "cell_type": "markdown",
      "source": [
        "This pointplot chart shows the relation between sales and days of week. "
      ],
      "metadata": {
        "id": "dcxuIMRPYuh3"
      }
    },
    {
      "cell_type": "markdown",
      "source": [
        "##### 2. What is/are the insight(s) found from the chart?"
      ],
      "metadata": {
        "id": "GwzvFGzlYuh3"
      }
    },
    {
      "cell_type": "markdown",
      "source": [
        "This pointplot easily explains that the sale was high in the starting days of the week and then falls down at the last day."
      ],
      "metadata": {
        "id": "uyqkiB8YYuh3"
      }
    },
    {
      "cell_type": "markdown",
      "source": [
        "##### 3. Will the gained insights help creating a positive business impact? \n",
        "Are there any insights that lead to negative growth? Justify with specific reason."
      ],
      "metadata": {
        "id": "qYpmQ266Yuh3"
      }
    },
    {
      "cell_type": "markdown",
      "source": [
        "By this chart, we can conclude that sales has the high demand in the beginning of the week so this is the right time to invite more customers which can be one via advertisement, sale, discounts."
      ],
      "metadata": {
        "id": "_WtzZ_hCYuh4"
      }
    },
    {
      "cell_type": "markdown",
      "source": [
        "#### Chart - 6"
      ],
      "metadata": {
        "id": "OH-pJp9IphqM"
      }
    },
    {
      "cell_type": "code",
      "source": [
        "# Chart - 6 visualization code\n",
        "plt.figure(figsize=(15,6))\n",
        "sns.barplot(x=data['Assortment'],y=data['Sales'])\n",
        "plt.title('comparision between assortment and sales')"
      ],
      "metadata": {
        "id": "kuRf4wtuphqN"
      },
      "execution_count": null,
      "outputs": []
    },
    {
      "cell_type": "markdown",
      "source": [
        "##### 1. Why did you pick the specific chart?"
      ],
      "metadata": {
        "id": "bbFf2-_FphqN"
      }
    },
    {
      "cell_type": "markdown",
      "source": [
        "Barplot between promo and Sales shows the effect of promotion on Sales. "
      ],
      "metadata": {
        "id": "loh7H2nzphqN"
      }
    },
    {
      "cell_type": "markdown",
      "source": [
        "##### 2. What is/are the insight(s) found from the chart?"
      ],
      "metadata": {
        "id": "_ouA3fa0phqN"
      }
    },
    {
      "cell_type": "markdown",
      "source": [
        "Here 0 represents the store which didnt opt for promotion and 1 & 2 represents for stores who opt for promotion. Those store who took promotions their sales are high as compared to stores who didnt took promotion.\n",
        "\n"
      ],
      "metadata": {
        "id": "VECbqPI7phqN"
      }
    },
    {
      "cell_type": "markdown",
      "source": [
        "#### Chart - 7"
      ],
      "metadata": {
        "id": "PIIx-8_IphqN"
      }
    },
    {
      "cell_type": "code",
      "source": [
        "# Chart - 7 visualization code\n",
        "plt.figure(figsize=(15,6))\n",
        "sns.boxplot(x=data['StoreType'],y=data['Sales'])\n",
        "plt.title('comparison between store sales')"
      ],
      "metadata": {
        "id": "lqAIGUfyphqO"
      },
      "execution_count": null,
      "outputs": []
    },
    {
      "cell_type": "markdown",
      "source": [
        "##### 1. Why did you pick the specific chart?"
      ],
      "metadata": {
        "id": "t27r6nlMphqO"
      }
    },
    {
      "cell_type": "markdown",
      "source": [
        "Box plot help to show the outliers in the data."
      ],
      "metadata": {
        "id": "iv6ro40sphqO"
      }
    },
    {
      "cell_type": "markdown",
      "source": [
        "##### 2. What is/are the insight(s) found from the chart?"
      ],
      "metadata": {
        "id": "r2jJGEOYphqO"
      }
    },
    {
      "cell_type": "markdown",
      "source": [
        "There are many outliers in the store data."
      ],
      "metadata": {
        "id": "Po6ZPi4hphqO"
      }
    },
    {
      "cell_type": "markdown",
      "source": [
        "#### Chart - 8"
      ],
      "metadata": {
        "id": "BZR9WyysphqO"
      }
    },
    {
      "cell_type": "code",
      "source": [
        "# Chart - 8 visualization code\n",
        "plt.figure(figsize=(12,6))\n",
        "sns.barplot(x=\"StateHoliday\", y=\"Sales\", data=data)"
      ],
      "metadata": {
        "id": "TdPTWpAVphqO"
      },
      "execution_count": null,
      "outputs": []
    },
    {
      "cell_type": "markdown",
      "source": [
        "##### 1. Why did you pick the specific chart?"
      ],
      "metadata": {
        "id": "jj7wYXLtphqO"
      }
    },
    {
      "cell_type": "markdown",
      "source": [
        "This chart is easy to understand the sales during the state holidays."
      ],
      "metadata": {
        "id": "Ob8u6rCTphqO"
      }
    },
    {
      "cell_type": "markdown",
      "source": [
        "##### 2. What is/are the insight(s) found from the chart?"
      ],
      "metadata": {
        "id": "eZrbJ2SmphqO"
      }
    },
    {
      "cell_type": "markdown",
      "source": [
        "This shows the Sales during state holiday."
      ],
      "metadata": {
        "id": "mZtgC_hjphqO"
      }
    },
    {
      "cell_type": "markdown",
      "source": [
        "##### 3. Will the gained insights help creating a positive business impact? \n",
        "Are there any insights that lead to negative growth? Justify with specific reason."
      ],
      "metadata": {
        "id": "rFu4xreNphqO"
      }
    },
    {
      "cell_type": "markdown",
      "source": [
        "We can observe that sales are incresing masively during the holiday."
      ],
      "metadata": {
        "id": "ey_0qi68phqO"
      }
    },
    {
      "cell_type": "markdown",
      "source": [
        "#### Chart - 9"
      ],
      "metadata": {
        "id": "YJ55k-q6phqO"
      }
    },
    {
      "cell_type": "code",
      "source": [
        "# Chart - 9 visualization code\n",
        "plt.figure(figsize=(15,8))\n",
        "cor=data.corr()\n",
        "sns.heatmap(cor,annot=True,cmap='coolwarm')"
      ],
      "metadata": {
        "id": "B2aS4O1ophqO"
      },
      "execution_count": null,
      "outputs": []
    },
    {
      "cell_type": "markdown",
      "source": [
        "##### 1. Why did you pick the specific chart?"
      ],
      "metadata": {
        "id": "gCFgpxoyphqP"
      }
    },
    {
      "cell_type": "markdown",
      "source": [
        "Heatmaps are used to show relationships between two variables, one plotted on each axis."
      ],
      "metadata": {
        "id": "TVxDimi2phqP"
      }
    },
    {
      "cell_type": "markdown",
      "source": [
        "##### 2. What is/are the insight(s) found from the chart?"
      ],
      "metadata": {
        "id": "OVtJsKN_phqQ"
      }
    },
    {
      "cell_type": "markdown",
      "source": [
        "This heatmap shows the multi - collinearity of of the sales data."
      ],
      "metadata": {
        "id": "ngGi97qjphqQ"
      }
    },
    {
      "cell_type": "markdown",
      "source": [
        "## ***5. Feature Engineering & Data Pre-processing***"
      ],
      "metadata": {
        "id": "yLjJCtPM0KBk"
      }
    },
    {
      "cell_type": "markdown",
      "source": [
        "###1. Correlation"
      ],
      "metadata": {
        "id": "hYpeLJhrD7Ro"
      }
    },
    {
      "cell_type": "code",
      "source": [
        "dependent='Sales'\n",
        "not_needed=('Store','Date','StoreType','PromoInterval')\n",
        "independent=list(set(data.columns.tolist())-set(not_needed)-{dependent})"
      ],
      "metadata": {
        "id": "3Vgk05fsD6so"
      },
      "execution_count": null,
      "outputs": []
    },
    {
      "cell_type": "code",
      "source": [
        "for a in independent:\n",
        "  plt.figure(figsize=(12,8))\n",
        "  plt.scatter(x=data[a],y=data[dependent])\n",
        "  plt.xlabel(a)\n",
        "  plt.ylabel('Sales')\n",
        "  plt.title('sales vs '+a)\n",
        "  co=np.polyfit(data[a],data['Sales'],1)\n",
        "  eq=np.poly1d(co)(data[a])\n",
        "  plt.plot(data[a],eq,c='r')"
      ],
      "metadata": {
        "id": "XTCyXdOuESYw"
      },
      "execution_count": null,
      "outputs": []
    },
    {
      "cell_type": "markdown",
      "source": [
        "###2. import libraries"
      ],
      "metadata": {
        "id": "WaJOsGp7_TlG"
      }
    },
    {
      "cell_type": "code",
      "source": [
        "from sklearn.model_selection import train_test_split\n",
        "from sklearn.preprocessing import MinMaxScaler\n",
        "from sklearn.preprocessing import StandardScaler\n",
        "from sklearn.linear_model import LinearRegression\n",
        "import math\n",
        "from sklearn.metrics import r2_score\n",
        "from sklearn.metrics import mean_squared_error\n",
        "from statsmodels.stats.outliers_influence import variance_inflation_factor\n",
        "from sklearn.linear_model import Lasso, Ridge"
      ],
      "metadata": {
        "id": "W7DeO1YE_RK3"
      },
      "execution_count": null,
      "outputs": []
    },
    {
      "cell_type": "markdown",
      "source": [
        "### 3. Calculation for VIF"
      ],
      "metadata": {
        "id": "MX26_1W0fXJQ"
      }
    },
    {
      "cell_type": "code",
      "source": [
        "def cal_vif(v):\n",
        "  vif=pd.DataFrame()\n",
        "  vif['variable']=v.columns\n",
        "  vif['VIF']=[variance_inflation_factor(v.values,i) for i in range(v.shape[1])]\n",
        "  return(vif)"
      ],
      "metadata": {
        "id": "8wxbVZElfWr4"
      },
      "execution_count": null,
      "outputs": []
    },
    {
      "cell_type": "code",
      "source": [
        "cal_vif(data[[i for i in independent]])"
      ],
      "metadata": {
        "id": "6YvYHci9g_9A"
      },
      "execution_count": null,
      "outputs": []
    },
    {
      "cell_type": "code",
      "source": [
        "cal_vif(data[[i for i in independent if i not in ['Promo2']]])"
      ],
      "metadata": {
        "id": "F7MfBL_6kNCv"
      },
      "execution_count": null,
      "outputs": []
    },
    {
      "cell_type": "markdown",
      "source": [
        "###4. Feature selection"
      ],
      "metadata": {
        "id": "zYg3mXRU9dje"
      }
    },
    {
      "cell_type": "code",
      "source": [
        "data = pd.get_dummies(data, columns=['PromoInterval'])"
      ],
      "metadata": {
        "id": "RWYBNddwnEsp"
      },
      "execution_count": null,
      "outputs": []
    },
    {
      "cell_type": "code",
      "source": [
        "dependent='Sales'\n",
        "not_needed=('Store','Date','StoreType','Promo2')\n",
        "independent=list(set(data.columns.tolist())-set(not_needed)-{dependent})"
      ],
      "metadata": {
        "id": "MtHOIuEfw2k0"
      },
      "execution_count": null,
      "outputs": []
    },
    {
      "cell_type": "code",
      "source": [
        "independent"
      ],
      "metadata": {
        "id": "2vQC2P4y3hK9"
      },
      "execution_count": null,
      "outputs": []
    },
    {
      "cell_type": "code",
      "source": [
        "dependent"
      ],
      "metadata": {
        "id": "KR80AKbP8-93"
      },
      "execution_count": null,
      "outputs": []
    },
    {
      "cell_type": "markdown",
      "source": [
        "###4. Selecting data"
      ],
      "metadata": {
        "id": "RW2XfgMK_keO"
      }
    },
    {
      "cell_type": "code",
      "source": [
        "x=data[independent].values\n",
        "y=data[dependent].values"
      ],
      "metadata": {
        "id": "sXr2bd38_Nk3"
      },
      "execution_count": null,
      "outputs": []
    },
    {
      "cell_type": "markdown",
      "source": [
        "### 5. Train the data"
      ],
      "metadata": {
        "id": "bLv5nDH-AB6f"
      }
    },
    {
      "cell_type": "code",
      "source": [
        "x_train,x_test,y_train,y_test=train_test_split(x,y,test_size=0.20,random_state=0)\n",
        "print(x_train.shape)\n",
        "print(x_test.shape)"
      ],
      "metadata": {
        "id": "jNJSD85zABoH"
      },
      "execution_count": null,
      "outputs": []
    },
    {
      "cell_type": "markdown",
      "source": [
        "### 6. Data Scaling"
      ],
      "metadata": {
        "id": "rMDnDkt2B6du"
      }
    },
    {
      "cell_type": "code",
      "source": [
        "\n",
        "scaler=StandardScaler()\n",
        "x_train = scaler.fit_transform(x_train)\n",
        "x_test = scaler.transform(x_test)"
      ],
      "metadata": {
        "id": "dL9LWpySC6x_"
      },
      "execution_count": null,
      "outputs": []
    },
    {
      "cell_type": "markdown",
      "source": [
        "###7.Linear regression"
      ],
      "metadata": {
        "id": "mitjxKoGD52Q"
      }
    },
    {
      "cell_type": "code",
      "source": [
        "regressor = LinearRegression()\n",
        "regressor.fit(x_train, y_train)"
      ],
      "metadata": {
        "id": "dJ8Ach3CD6S4"
      },
      "execution_count": null,
      "outputs": []
    },
    {
      "cell_type": "markdown",
      "source": [
        "### 8. Prediction"
      ],
      "metadata": {
        "id": "yiiVWRdJDDil"
      }
    },
    {
      "cell_type": "code",
      "source": [
        "y_pred=regressor.predict(x_test)"
      ],
      "metadata": {
        "id": "xKgpWZTgESmQ"
      },
      "execution_count": null,
      "outputs": []
    },
    {
      "cell_type": "code",
      "source": [
        "regressor.score(x_train,y_train)"
      ],
      "metadata": {
        "id": "TcpT_DRIzNij"
      },
      "execution_count": null,
      "outputs": []
    },
    {
      "cell_type": "code",
      "source": [
        "mse=mean_squared_error(y_pred,y_test)\n",
        "print('MSE:', mse)\n",
        "rmse=math.sqrt(mse)\n",
        "print('RMSE: ', rmse)\n",
        "r2=r2_score(y_pred,y_test)\n",
        "print('R Square: ', r2)"
      ],
      "metadata": {
        "id": "bOmpqrHGE6Pg"
      },
      "execution_count": null,
      "outputs": []
    },
    {
      "cell_type": "code",
      "source": [
        "regressor.coef_"
      ],
      "metadata": {
        "id": "khQoqnvGGjMy"
      },
      "execution_count": null,
      "outputs": []
    },
    {
      "cell_type": "markdown",
      "source": [
        "### 9. Ridge"
      ],
      "metadata": {
        "id": "P1XJ9OREExlT"
      }
    },
    {
      "cell_type": "code",
      "source": [
        "ridge=Ridge(alpha=0.5)\n",
        "ridge.fit(x_train,y_train)\n"
      ],
      "metadata": {
        "id": "5PMKSIJYtbza"
      },
      "execution_count": null,
      "outputs": []
    },
    {
      "cell_type": "code",
      "source": [
        "y_pred_ridge=ridge.predict(x_test)"
      ],
      "metadata": {
        "id": "70WaOjPExg0M"
      },
      "execution_count": null,
      "outputs": []
    },
    {
      "cell_type": "code",
      "source": [
        "ridge.score(x_train,y_train)"
      ],
      "metadata": {
        "id": "uNfwkZ03vMEY"
      },
      "execution_count": null,
      "outputs": []
    },
    {
      "cell_type": "code",
      "source": [
        "mse=mean_squared_error(y_pred_ridge,y_test)\n",
        "print('MSE:', mse)\n",
        "rmse=math.sqrt(mse)\n",
        "print('RMSE: ', rmse)\n",
        "r2=r2_score(y_pred_ridge,y_test)\n",
        "print('R Square: ', r2)"
      ],
      "metadata": {
        "id": "I20sxIX6uv0b"
      },
      "execution_count": null,
      "outputs": []
    },
    {
      "cell_type": "markdown",
      "source": [
        "###10. Lass0"
      ],
      "metadata": {
        "id": "uz3ouwVB5NUf"
      }
    },
    {
      "cell_type": "code",
      "source": [
        "lasso=Lasso(alpha=2)\n",
        "lasso.fit(x_train,y_train)"
      ],
      "metadata": {
        "id": "_IQndnH75NuX"
      },
      "execution_count": null,
      "outputs": []
    },
    {
      "cell_type": "code",
      "source": [
        "y_pred_lasso=lasso.predict(x_test)"
      ],
      "metadata": {
        "id": "ehch69q65tO_"
      },
      "execution_count": null,
      "outputs": []
    },
    {
      "cell_type": "code",
      "source": [
        "lasso.score(x_train,y_train)"
      ],
      "metadata": {
        "id": "S_qZPSEZ6cU2"
      },
      "execution_count": null,
      "outputs": []
    },
    {
      "cell_type": "code",
      "source": [
        "mse=mean_squared_error(y_pred_lasso,y_test)\n",
        "print('MSE:', mse)\n",
        "rmse=math.sqrt(mse)\n",
        "print('RMSE: ', rmse)\n",
        "r2=r2_score(y_pred_lasso,y_test)\n",
        "print('R Square: ', r2)"
      ],
      "metadata": {
        "id": "Z2N4wBHi6sll"
      },
      "execution_count": null,
      "outputs": []
    },
    {
      "cell_type": "markdown",
      "source": [
        "# **Conclusion**"
      ],
      "metadata": {
        "id": "gCX9965dhzqZ"
      }
    },
    {
      "cell_type": "markdown",
      "source": [
        "We saw that Sales column contains 1017902 we trained linear model using various algorithms and we got accuracy near about 84% . \n",
        "And we used ridge and lasso for better model but its not impacted much.\n",
        "\n",
        "So we came to conclusion that removing sales=0 rows actually removes lot of information from dataset as it has 172871 rows which is quite large and therefore we decided not to remove those values.we tried taking an optimum parameter so that our model doesnt overfit.\n",
        "\n",
        "\n",
        "1)From plot sales and competition Open Since Month shows sales go increasing from November and highest in month December.\n",
        "\n",
        "2)From plot Sales and day of week, Sales highest on Monday and start declining from Tuesday to Saturday and on Sunday Sales almost near to Zero.\n",
        "\n",
        "3)Plot between Promotion and Sales shows that promotion helps in increasing Sales.\n",
        "\n",
        "4)Type of Store plays an important role in opening pattern of stores.\n",
        "\n",
        "5)All Type ‘b’ stores never closed except for refurbishment or other reason.\n",
        "\n",
        "6)All Type ‘b’ stores have comparatively higher sales and it mostly constant with peaks appears on weekends.\n",
        "\n",
        "7)ssortment Level ‘b’ is only offered at Store Type ‘b’.\n",
        "\n",
        "8)We can observe that most of the stores remain closed during State Holidays. But it is interesting to note that the number of stores opened during School Holidays were more than that were opened during State Holidays."
      ],
      "metadata": {
        "id": "Fjb1IsQkh3yE"
      }
    },
    {
      "cell_type": "markdown",
      "source": [
        "### ***Hurrah! You have successfully completed your Machine Learning Capstone Project !!!***"
      ],
      "metadata": {
        "id": "gIfDvo9L0UH2"
      }
    }
  ]
}